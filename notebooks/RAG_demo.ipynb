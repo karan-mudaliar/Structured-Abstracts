{
  "cells": [
    {
      "cell_type": "markdown",
      "metadata": {
        "colab_type": "text",
        "id": "view-in-github"
      },
      "source": [
        "<a href=\"https://colab.research.google.com/github/karan-mudaliar/Structured-Abstracts/blob/dev/notebooks/copali_demo.ipynb\" target=\"_parent\"><img src=\"https://colab.research.google.com/assets/colab-badge.svg\" alt=\"Open In Colab\"/></a>"
      ]
    },
    {
      "cell_type": "markdown",
      "metadata": {},
      "source": []
    },
    {
      "cell_type": "code",
      "execution_count": 1,
      "metadata": {},
      "outputs": [
        {
          "name": "stderr",
          "output_type": "stream",
          "text": [
            "/home/mudaliar.k/github/Structured-Abstracts/.venv/lib/python3.11/site-packages/pydantic/_internal/_fields.py:132: UserWarning: Field \"model_id\" in DeployedModel has conflict with protected namespace \"model_\".\n",
            "\n",
            "You may be able to resolve this warning by setting `model_config['protected_namespaces'] = ()`.\n",
            "  warnings.warn(\n",
            "/home/mudaliar.k/github/Structured-Abstracts/.venv/lib/python3.11/site-packages/pydantic/_internal/_fields.py:132: UserWarning: Field \"model_name\" in HuggingFaceLLM has conflict with protected namespace \"model_\".\n",
            "\n",
            "You may be able to resolve this warning by setting `model_config['protected_namespaces'] = ()`.\n",
            "  warnings.warn(\n",
            "/home/mudaliar.k/github/Structured-Abstracts/.venv/lib/python3.11/site-packages/pydantic/_internal/_fields.py:132: UserWarning: Field \"model_kwargs\" in HuggingFaceLLM has conflict with protected namespace \"model_\".\n",
            "\n",
            "You may be able to resolve this warning by setting `model_config['protected_namespaces'] = ()`.\n",
            "  warnings.warn(\n",
            "/home/mudaliar.k/github/Structured-Abstracts/.venv/lib/python3.11/site-packages/pydantic/_internal/_fields.py:132: UserWarning: Field \"model_name\" in HuggingFaceInferenceAPI has conflict with protected namespace \"model_\".\n",
            "\n",
            "You may be able to resolve this warning by setting `model_config['protected_namespaces'] = ()`.\n",
            "  warnings.warn(\n",
            "/home/mudaliar.k/github/Structured-Abstracts/.venv/lib/python3.11/site-packages/pydantic/_internal/_fields.py:132: UserWarning: Field \"model_name\" in TextGenerationInference has conflict with protected namespace \"model_\".\n",
            "\n",
            "You may be able to resolve this warning by setting `model_config['protected_namespaces'] = ()`.\n",
            "  warnings.warn(\n"
          ]
        }
      ],
      "source": [
        "from llama_index.core import (\n",
        "    SimpleDirectoryReader,\n",
        "    VectorStoreIndex,\n",
        "    StorageContext,\n",
        "    load_index_from_storage,\n",
        ")\n",
        "from llama_index.core import Document\n",
        "from llama_index.embeddings.huggingface import HuggingFaceEmbedding\n",
        "from llama_index.core.node_parser import SentenceSplitter\n",
        "from llama_index.core.extractors import TitleExtractor\n",
        "from llama_index.core.ingestion import IngestionPipeline, IngestionCache\n",
        "from llama_index.llms.vllm import Vllm\n",
        "from llama_index.llms.huggingface import HuggingFaceLLM\n",
        "\n",
        "from llama_index.core import set_global_tokenizer\n",
        "from transformers import AutoTokenizer"
      ]
    },
    {
      "cell_type": "code",
      "execution_count": 2,
      "metadata": {},
      "outputs": [],
      "source": [
        "def load_pdf_document(pdf_path):\n",
        "    try:\n",
        "        docs = SimpleDirectoryReader(input_files=[pdf_path]).load_data()\n",
        "        return docs\n",
        "    except Exception as e:\n",
        "        print(f\"Error loading PDF: {e}\")\n",
        "        return None"
      ]
    },
    {
      "cell_type": "code",
      "execution_count": 3,
      "metadata": {},
      "outputs": [],
      "source": [
        "doc = load_pdf_document('attention.pdf')"
      ]
    },
    {
      "cell_type": "code",
      "execution_count": 4,
      "metadata": {},
      "outputs": [],
      "source": [
        "embedding_model = HuggingFaceEmbedding(model_name=\"sentence-transformers/all-MiniLM-L6-v2\")\n",
        "\n",
        "pipeline = IngestionPipeline(\n",
        "    transformations=[\n",
        "        SentenceSplitter(chunk_size=400, chunk_overlap=40),\n",
        "    ]\n",
        ")"
      ]
    },
    {
      "cell_type": "code",
      "execution_count": 5,
      "metadata": {},
      "outputs": [],
      "source": [
        "nodes = pipeline.run(documents=doc)\n",
        "index = VectorStoreIndex(nodes, embed_model=embedding_model)"
      ]
    },
    {
      "cell_type": "code",
      "execution_count": 6,
      "metadata": {},
      "outputs": [
        {
          "data": {
            "text/plain": [
              "<llama_index.core.indices.vector_store.base.VectorStoreIndex at 0x2b7f142d8b90>"
            ]
          },
          "execution_count": 6,
          "metadata": {},
          "output_type": "execute_result"
        }
      ],
      "source": [
        "index"
      ]
    },
    {
      "cell_type": "code",
      "execution_count": 7,
      "metadata": {},
      "outputs": [
        {
          "name": "stdout",
          "output_type": "stream",
          "text": [
            "Using device: cuda\n"
          ]
        },
        {
          "data": {
            "application/vnd.jupyter.widget-view+json": {
              "model_id": "a81562384d2141d586de802c0c6dff5f",
              "version_major": 2,
              "version_minor": 0
            },
            "text/plain": [
              "tokenizer_config.json:   0%|          | 0.00/264 [00:00<?, ?B/s]"
            ]
          },
          "metadata": {},
          "output_type": "display_data"
        },
        {
          "data": {
            "application/vnd.jupyter.widget-view+json": {
              "model_id": "44eaa9443e8e4182b1e7dbf8a616b913",
              "version_major": 2,
              "version_minor": 0
            },
            "text/plain": [
              "tokenizer.json:   0%|          | 0.00/2.11M [00:00<?, ?B/s]"
            ]
          },
          "metadata": {},
          "output_type": "display_data"
        },
        {
          "data": {
            "application/vnd.jupyter.widget-view+json": {
              "model_id": "b694079ec00b4ee49a9e4923c2f788bf",
              "version_major": 2,
              "version_minor": 0
            },
            "text/plain": [
              "special_tokens_map.json:   0%|          | 0.00/99.0 [00:00<?, ?B/s]"
            ]
          },
          "metadata": {},
          "output_type": "display_data"
        },
        {
          "name": "stderr",
          "output_type": "stream",
          "text": [
            "The model `Qwen/Qwen2.5-0.5B-Instruct` and tokenizer `StabilityAI/stablelm-tuned-alpha-3b` are different, please ensure that they are compatible.\n"
          ]
        }
      ],
      "source": [
        "from llama_index.core import Settings\n",
        "from llama_index.core.prompts import PromptTemplate\n",
        "from typing import List\n",
        "import torch\n",
        "\n",
        "# Check GPU availability\n",
        "device = \"cuda\" if torch.cuda.is_available() else \"cpu\"\n",
        "print(f\"Using device: {device}\")\n",
        "\n",
        "llm = HuggingFaceLLM(model_name=\"Qwen/Qwen2.5-0.5B-Instruct\")"
      ]
    },
    {
      "cell_type": "code",
      "execution_count": 8,
      "metadata": {},
      "outputs": [
        {
          "name": "stdout",
          "output_type": "stream",
          "text": [
            "Testing direct LLM:\n",
            "Direct LLM response: *�/761, Cma Fa----ion wavesigionperson----ed）8 v IGF----\n",
            "        upt matureover consequence---- viaeto 51 for Freud*�/1&2iff�105+13.rentY2[ recentlyB su of France?*ter, be/774=\" Cma /*---- boundigion manufact----isation8 v became---- Dy monsterzedperson*�02&1 bet�201+212rentY3[ recentlyB su of France?*ter, be0..2=\" C forperson8 open postp----ionfebovercedper,pt, ne46are my, \\,ath Sox Ralphear be versionq hybridization Wilcoxon---- rou laboratory beough,�01+12=\"---iring8 \"\"istint an individ\\[9 manufact9 statistically9 Pap an individ voor an Unitedistant 2 le eternal----ion Pap comion /*----ion boundigion manufact----edatively,](# {{ ched became----ion Pap comion /*----ion boundigion manufact----isationimert similarly*ockide depth forockide Wednesday,\n",
            "        text die*ter, capital of France*ountinstight\n",
            "\n",
            "Testing RAG query:\n",
            "Q: What is the main topic of the paper?\n",
            "A: &1*2*3ense me/. diameters�59 me0. diameters�69 me1. diameters�79 me2. diameters�/.9 me3. diameters�//9 me4. diameters�/09 me5. diameters�/19 me6. diameters�/29 me7. diameters�/39 me/.. diameters�/49 me//. diameters�/59 me/0. diameters�/69 me/1. diameters�/79 me/2. diameters�0. FE/3. diameters�0/9 me/4. diameters�009 me/5. diameters�019 me/6. diameters�029 me/7. diameters�039 me0.. diameters�049 me0/. diameters�059 me00. diameters�069 me01. diameters�079 me02. diameters�1.9 me03. diameters�1/9 me04. diameters�109 me05. diameters�119 me06. diameters�129 me07. diameters�139\n"
          ]
        }
      ],
      "source": [
        "Settings.llm = llm\n",
        "Settings.embed_model = embedding_model\n",
        "Settings.chunk_size = 400\n",
        "Settings.chunk_overlap = 40\n",
        "\n",
        "# Create prompt template\n",
        "rag_template = PromptTemplate(\n",
        "    \"\"\"You are a helpful AI assistant. Use the following context to answer the user's question. \n",
        "    If you're unsure or the context doesn't contain the relevant information, please say so.\n",
        "\n",
        "    Context: {context}\n",
        "    \n",
        "    Question: {query}\n",
        "    \n",
        "    Answer: Let me help you with that.\"\"\"\n",
        ")\n",
        "\n",
        "# Create query engine\n",
        "query_engine = index.as_query_engine(\n",
        "    text_qa_template=rag_template,\n",
        "    similarity_top_k=3,\n",
        ")\n",
        "\n",
        "# Helper function for direct LLM testing\n",
        "def test_llm(prompt: str) -> str:\n",
        "        response = llm.complete(prompt)\n",
        "        return response.text\n",
        "\n",
        "# Function to perform RAG queries\n",
        "def ask_question(question: str) -> str:\n",
        "        response = query_engine.query(question)\n",
        "        return response.response\n",
        "\n",
        "# Function to perform RAG queries with source context\n",
        "def ask_question_with_sources(question: str) -> tuple[str, List[str]]:\n",
        "        response = query_engine.query(question)\n",
        "        sources = [node.node.text for node in response.source_nodes]\n",
        "        return response.response, sources\n",
        "\n",
        "# Test the setup\n",
        "if __name__ == \"__main__\":\n",
        "    # First test direct LLM functionality\n",
        "    print(\"Testing direct LLM:\")\n",
        "    test_response = test_llm(\"What is the capital of France?\")\n",
        "    print(f\"Direct LLM response: {test_response}\\n\")\n",
        "    \n",
        "    # Then test RAG functionality\n",
        "    test_question = \"What is the main topic of the paper?\"\n",
        "    print(\"Testing RAG query:\")\n",
        "    print(f\"Q: {test_question}\")\n",
        "    print(f\"A: {ask_question(test_question)}\")"
      ]
    },
    {
      "cell_type": "code",
      "execution_count": null,
      "metadata": {},
      "outputs": [],
      "source": []
    }
  ],
  "metadata": {
    "colab": {
      "authorship_tag": "ABX9TyMdG4xWLiD74jdDkpu/kKo5",
      "include_colab_link": true,
      "provenance": []
    },
    "kernelspec": {
      "display_name": "structured-abstracts",
      "language": "python",
      "name": "structured-abstracts"
    },
    "language_info": {
      "codemirror_mode": {
        "name": "ipython",
        "version": 3
      },
      "file_extension": ".py",
      "mimetype": "text/x-python",
      "name": "python",
      "nbconvert_exporter": "python",
      "pygments_lexer": "ipython3",
      "version": "3.11.10"
    }
  },
  "nbformat": 4,
  "nbformat_minor": 0
}
